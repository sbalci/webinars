{
 "cells": [
  {
   "cell_type": "markdown",
   "metadata": {},
   "source": [
    "# Diabetes Dataset - Linear Regression\n",
    "\n",
    "Ten baseline variables, age, sex, body mass index, average blood pressure, and six blood serum measurements were obtained for each of n = 442 diabetes patients, as well as the response of interest, a quantitative measure of disease progression one year after baseline.\n",
    "\n",
    "Source: https://www4.stat.ncsu.edu/~boos/var.select/diabetes.html"
   ]
  },
  {
   "cell_type": "code",
   "execution_count": 1,
   "metadata": {},
   "outputs": [],
   "source": [
    "import numpy as np\n",
    "from sklearn import datasets, linear_model\n",
    "from sklearn.metrics import mean_squared_error, r2_score"
   ]
  },
  {
   "cell_type": "code",
   "execution_count": 2,
   "metadata": {},
   "outputs": [],
   "source": [
    "diabetes = datasets.load_diabetes()"
   ]
  },
  {
   "cell_type": "code",
   "execution_count": 3,
   "metadata": {},
   "outputs": [
    {
     "data": {
      "text/plain": [
       "array([[ 0.03807591,  0.05068012,  0.06169621, ..., -0.00259226,\n",
       "         0.01990842, -0.01764613],\n",
       "       [-0.00188202, -0.04464164, -0.05147406, ..., -0.03949338,\n",
       "        -0.06832974, -0.09220405],\n",
       "       [ 0.08529891,  0.05068012,  0.04445121, ..., -0.00259226,\n",
       "         0.00286377, -0.02593034],\n",
       "       ...,\n",
       "       [ 0.04170844,  0.05068012, -0.01590626, ..., -0.01107952,\n",
       "        -0.04687948,  0.01549073],\n",
       "       [-0.04547248, -0.04464164,  0.03906215, ...,  0.02655962,\n",
       "         0.04452837, -0.02593034],\n",
       "       [-0.04547248, -0.04464164, -0.0730303 , ..., -0.03949338,\n",
       "        -0.00421986,  0.00306441]])"
      ]
     },
     "execution_count": 3,
     "metadata": {},
     "output_type": "execute_result"
    }
   ],
   "source": [
    "diabetes.data"
   ]
  },
  {
   "cell_type": "code",
   "execution_count": 4,
   "metadata": {},
   "outputs": [
    {
     "data": {
      "text/plain": [
       "(442, 10)"
      ]
     },
     "execution_count": 4,
     "metadata": {},
     "output_type": "execute_result"
    }
   ],
   "source": [
    "diabetes.data.shape"
   ]
  },
  {
   "cell_type": "code",
   "execution_count": 5,
   "metadata": {},
   "outputs": [],
   "source": [
    "diabetes_X = diabetes.data"
   ]
  },
  {
   "cell_type": "code",
   "execution_count": 6,
   "metadata": {},
   "outputs": [
    {
     "data": {
      "text/plain": [
       "['age', 'sex', 'bmi', 'bp', 's1', 's2', 's3', 's4', 's5', 's6']"
      ]
     },
     "execution_count": 6,
     "metadata": {},
     "output_type": "execute_result"
    }
   ],
   "source": [
    "diabetes.feature_names"
   ]
  },
  {
   "cell_type": "code",
   "execution_count": 7,
   "metadata": {},
   "outputs": [],
   "source": [
    "# Split the data into training/testing sets\n",
    "diabetes_X_train = diabetes_X[:-20]\n",
    "diabetes_X_test = diabetes_X[-20:]"
   ]
  },
  {
   "cell_type": "code",
   "execution_count": 8,
   "metadata": {},
   "outputs": [
    {
     "data": {
      "text/plain": [
       "(422, 10)"
      ]
     },
     "execution_count": 8,
     "metadata": {},
     "output_type": "execute_result"
    }
   ],
   "source": [
    "diabetes_X_train.shape"
   ]
  },
  {
   "cell_type": "code",
   "execution_count": 9,
   "metadata": {},
   "outputs": [
    {
     "data": {
      "text/plain": [
       "(20, 10)"
      ]
     },
     "execution_count": 9,
     "metadata": {},
     "output_type": "execute_result"
    }
   ],
   "source": [
    "diabetes_X_test.shape"
   ]
  },
  {
   "cell_type": "code",
   "execution_count": 10,
   "metadata": {},
   "outputs": [],
   "source": [
    "# Split the targets into training/testing sets\n",
    "diabetes_y_train = diabetes.target[:-20]\n",
    "diabetes_y_test = diabetes.target[-20:]"
   ]
  },
  {
   "cell_type": "code",
   "execution_count": 11,
   "metadata": {},
   "outputs": [],
   "source": [
    "# Create linear regression object\n",
    "regr = linear_model.LinearRegression()"
   ]
  },
  {
   "cell_type": "code",
   "execution_count": 12,
   "metadata": {},
   "outputs": [
    {
     "data": {
      "text/plain": [
       "LinearRegression(copy_X=True, fit_intercept=True, n_jobs=None, normalize=False)"
      ]
     },
     "execution_count": 12,
     "metadata": {},
     "output_type": "execute_result"
    }
   ],
   "source": [
    "# Train the model using the training sets\n",
    "regr.fit(diabetes_X_train, diabetes_y_train)"
   ]
  },
  {
   "cell_type": "code",
   "execution_count": 13,
   "metadata": {},
   "outputs": [],
   "source": [
    "# Make predictions using the testing set\n",
    "diabetes_y_pred = regr.predict(diabetes_X_test)"
   ]
  },
  {
   "cell_type": "code",
   "execution_count": 14,
   "metadata": {},
   "outputs": [
    {
     "name": "stdout",
     "output_type": "stream",
     "text": [
      "Coefficients:\n"
     ]
    },
    {
     "data": {
      "text/plain": [
       "array([ 3.03499549e-01, -2.37639315e+02,  5.10530605e+02,  3.27736980e+02,\n",
       "       -8.14131709e+02,  4.92814588e+02,  1.02848452e+02,  1.84606489e+02,\n",
       "        7.43519617e+02,  7.60951722e+01])"
      ]
     },
     "execution_count": 14,
     "metadata": {},
     "output_type": "execute_result"
    }
   ],
   "source": [
    "print('Coefficients:')\n",
    "regr.coef_"
   ]
  },
  {
   "cell_type": "markdown",
   "metadata": {},
   "source": [
    "## Create tidypredict.yml"
   ]
  },
  {
   "cell_type": "code",
   "execution_count": 15,
   "metadata": {},
   "outputs": [],
   "source": [
    "import yaml"
   ]
  },
  {
   "cell_type": "code",
   "execution_count": 16,
   "metadata": {},
   "outputs": [],
   "source": [
    "general = {\n",
    "    \"model\": \"lm\",\n",
    "    \"version\": 2.0,\n",
    "    \"type\": \"regression\",\n",
    "    \"residual\": 0,\n",
    "    \"sigma2\": 0,\n",
    "    \"is_glm\": 0\n",
    "}"
   ]
  },
  {
   "cell_type": "code",
   "execution_count": 17,
   "metadata": {},
   "outputs": [],
   "source": [
    "terms = []\n",
    "terms_intercept = {\n",
    "        \"label\": \"(Intercept)\",\n",
    "        \"coef\": float(regr.intercept_),\n",
    "        \"is_intercept\": 1,\n",
    "        \"fields\": [{\"type\": \"ordinary\", \"col\": \"(Intercept)\"}]\n",
    "    } \n",
    "terms.append(terms_intercept)"
   ]
  },
  {
   "cell_type": "code",
   "execution_count": 18,
   "metadata": {},
   "outputs": [],
   "source": [
    "for term_name, coef_ in zip(diabetes.feature_names, regr.coef_):\n",
    "    term = {\n",
    "        \"label\": term_name,\n",
    "        \"coef\": float(coef_),\n",
    "        \"is_intercept\": 0,\n",
    "        \"fields\": [{\"type\": \"ordinary\", \"col\": term_name}]\n",
    "    }\n",
    "    terms.append(term)"
   ]
  },
  {
   "cell_type": "code",
   "execution_count": 19,
   "metadata": {},
   "outputs": [
    {
     "name": "stdout",
     "output_type": "stream",
     "text": [
      "general:\n",
      "  is_glm: 0\n",
      "  model: lm\n",
      "  residual: 0\n",
      "  sigma2: 0\n",
      "  type: regression\n",
      "  version: 2.0\n",
      "terms:\n",
      "- coef: 152.76430691633442\n",
      "  fields:\n",
      "  - col: (Intercept)\n",
      "    type: ordinary\n",
      "  is_intercept: 1\n",
      "  label: (Intercept)\n",
      "- coef: 0.3034995490660432\n",
      "  fields:\n",
      "  - col: age\n",
      "    type: ordinary\n",
      "  is_intercept: 0\n",
      "  label: age\n",
      "- coef: -237.63931533353403\n",
      "  fields:\n",
      "  - col: sex\n",
      "    type: ordinary\n",
      "  is_intercept: 0\n",
      "  label: sex\n",
      "- coef: 510.5306054362253\n",
      "  fields:\n",
      "  - col: bmi\n",
      "    type: ordinary\n",
      "  is_intercept: 0\n",
      "  label: bmi\n",
      "- coef: 327.7369804093466\n",
      "  fields:\n",
      "  - col: bp\n",
      "    type: ordinary\n",
      "  is_intercept: 0\n",
      "  label: bp\n",
      "- coef: -814.1317093725387\n",
      "  fields:\n",
      "  - col: s1\n",
      "    type: ordinary\n",
      "  is_intercept: 0\n",
      "  label: s1\n",
      "- coef: 492.81458798373217\n",
      "  fields:\n",
      "  - col: s2\n",
      "    type: ordinary\n",
      "  is_intercept: 0\n",
      "  label: s2\n",
      "- coef: 102.8484521916802\n",
      "  fields:\n",
      "  - col: s3\n",
      "    type: ordinary\n",
      "  is_intercept: 0\n",
      "  label: s3\n",
      "- coef: 184.60648905984\n",
      "  fields:\n",
      "  - col: s4\n",
      "    type: ordinary\n",
      "  is_intercept: 0\n",
      "  label: s4\n",
      "- coef: 743.519616750542\n",
      "  fields:\n",
      "  - col: s5\n",
      "    type: ordinary\n",
      "  is_intercept: 0\n",
      "  label: s5\n",
      "- coef: 76.09517221662392\n",
      "  fields:\n",
      "  - col: s6\n",
      "    type: ordinary\n",
      "  is_intercept: 0\n",
      "  label: s6\n",
      "\n"
     ]
    }
   ],
   "source": [
    "tidypredict_data = {\"general\": general, \"terms\": terms}\n",
    "print(yaml.dump(tidypredict_data, default_flow_style=False))"
   ]
  },
  {
   "cell_type": "markdown",
   "metadata": {},
   "source": [
    "## Compare tidypredict formula with sklearn"
   ]
  },
  {
   "cell_type": "code",
   "execution_count": 20,
   "metadata": {},
   "outputs": [
    {
     "data": {
      "text/plain": [
       "152.76430691633442"
      ]
     },
     "execution_count": 20,
     "metadata": {},
     "output_type": "execute_result"
    }
   ],
   "source": [
    "regr.intercept_\n"
   ]
  },
  {
   "cell_type": "code",
   "execution_count": 21,
   "metadata": {},
   "outputs": [
    {
     "data": {
      "text/plain": [
       "array([ 3.03499549e-01, -2.37639315e+02,  5.10530605e+02,  3.27736980e+02,\n",
       "       -8.14131709e+02,  4.92814588e+02,  1.02848452e+02,  1.84606489e+02,\n",
       "        7.43519617e+02,  7.60951722e+01])"
      ]
     },
     "execution_count": 21,
     "metadata": {},
     "output_type": "execute_result"
    }
   ],
   "source": [
    "regr.coef_"
   ]
  },
  {
   "cell_type": "code",
   "execution_count": 22,
   "metadata": {},
   "outputs": [],
   "source": [
    "sklearn_predict = regr.predict(diabetes_X_train)"
   ]
  },
  {
   "cell_type": "code",
   "execution_count": 23,
   "metadata": {},
   "outputs": [],
   "source": [
    "age = diabetes_X_train[:, 0]\n",
    "sex = diabetes_X_train[:, 1]\n",
    "bmi = diabetes_X_train[:, 2]\n",
    "bp = diabetes_X_train[:, 3]\n",
    "s1 = diabetes_X_train[:, 4]\n",
    "s2 = diabetes_X_train[:, 5]\n",
    "s3 = diabetes_X_train[:, 6]\n",
    "s4 = diabetes_X_train[:, 7]\n",
    "s5 = diabetes_X_train[:, 8]\n",
    "s6 = diabetes_X_train[:, 9]"
   ]
  },
  {
   "cell_type": "code",
   "execution_count": 24,
   "metadata": {},
   "outputs": [],
   "source": [
    "# Formula from tidypredict:\n",
    "\n",
    "f = 152.764306916334 + (age * 0.303499549066043) + (sex * -237.639315333534) + \\\n",
    "    (bmi * 510.530605436225) + (bp * 327.736980409347) + (s1 * \\\n",
    "    -814.131709372539) + (s2 * 492.814587983732) + (s3 * 102.84845219168) + \\\n",
    "    (s4 * 184.60648905984) + (s5 * 743.519616750542) + (s6 * \\\n",
    "    76.0951722166239)"
   ]
  },
  {
   "cell_type": "code",
   "execution_count": 25,
   "metadata": {},
   "outputs": [
    {
     "data": {
      "text/plain": [
       "1.8099655108017032e-10"
      ]
     },
     "execution_count": 25,
     "metadata": {},
     "output_type": "execute_result"
    }
   ],
   "source": [
    "np.sum(np.abs(sklearn_predict - f))"
   ]
  },
  {
   "cell_type": "code",
   "execution_count": null,
   "metadata": {},
   "outputs": [],
   "source": []
  }
 ],
 "metadata": {
  "kernelspec": {
   "display_name": "Python 3",
   "language": "python",
   "name": "python3"
  },
  "language_info": {
   "codemirror_mode": {
    "name": "ipython",
    "version": 3
   },
   "file_extension": ".py",
   "mimetype": "text/x-python",
   "name": "python",
   "nbconvert_exporter": "python",
   "pygments_lexer": "ipython3",
   "version": "3.7.3"
  },
  "rsconnect": {
   "previousServerId": "c19be6c13ef6ce0486a7fd847d6d3a67",
   "servers": {
    "c19be6c13ef6ce0486a7fd847d6d3a67": {
     "appId": 2620,
     "appMode": "static",
     "configUrl": "https://colorado.rstudio.com:443/rsc/connect/#/apps/2620",
     "notebookTitle": "diabetes-regression",
     "server": "https://colorado.rstudio.com/rsc/",
     "serverName": "colorado"
    }
   },
   "version": 1
  }
 },
 "nbformat": 4,
 "nbformat_minor": 2
}
